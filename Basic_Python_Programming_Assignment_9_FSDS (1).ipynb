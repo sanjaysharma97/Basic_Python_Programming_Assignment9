{
 "cells": [
  {
   "cell_type": "markdown",
   "id": "a01f0a5e",
   "metadata": {},
   "source": [
    "# 1. Write a Python program to check if the given number is a Disarium Number?\n",
    "\n",
    "ANSWER-"
   ]
  },
  {
   "cell_type": "code",
   "execution_count": 2,
   "id": "b1bee247",
   "metadata": {},
   "outputs": [
    {
     "name": "stdout",
     "output_type": "stream",
     "text": [
      "enter the number you want to check a disarium number: 89\n",
      "89 is a disarium number\n"
     ]
    }
   ],
   "source": [
    "def check_disarium_number():\n",
    "    num=input(\"enter the number you want to check a disarium number: \")\n",
    "    sum=0\n",
    "    for i in range(len(num)):\n",
    "        sum=sum+int(num[i])**(i+1)\n",
    "    if sum==int(num):\n",
    "        print(f'{num} is a disarium number')\n",
    "    else:\n",
    "        print(f'{num} is not a disarium number')\n",
    "check_disarium_number()"
   ]
  },
  {
   "cell_type": "markdown",
   "id": "89408a8a",
   "metadata": {},
   "source": [
    "# 2. Write a Python program to print all disarium numbers between 1 to 100?\n",
    "\n",
    "ANSWER-"
   ]
  },
  {
   "cell_type": "code",
   "execution_count": 6,
   "id": "af76cbf4",
   "metadata": {},
   "outputs": [
    {
     "data": {
      "text/plain": [
       "[1, 2, 3, 4, 5, 6, 7, 8, 9, 89]"
      ]
     },
     "execution_count": 6,
     "metadata": {},
     "output_type": "execute_result"
    }
   ],
   "source": [
    "def check_disarium_number(start,end):\n",
    "    final_output=[]\n",
    "    for i in range(start,end+1):\n",
    "        sum=0\n",
    "        for j in range(len(str(i))):\n",
    "            sum=sum+int(str(i)[j])**(j+1)\n",
    "            if sum==i:\n",
    "                final_output.append(i)\n",
    "    return final_output\n",
    "check_disarium_number(1,100)"
   ]
  },
  {
   "cell_type": "markdown",
   "id": "9288bcdd",
   "metadata": {},
   "source": [
    "# 3. Write a Python program to check if the given number is Happy Number?\n",
    "\n",
    "ANSWER-"
   ]
  },
  {
   "cell_type": "code",
   "execution_count": 10,
   "id": "c93190cf",
   "metadata": {},
   "outputs": [
    {
     "name": "stdout",
     "output_type": "stream",
     "text": [
      "enter a number: 82\n",
      "82 is a happy number\n",
      "enter a number: 9\n",
      "9 is not a happy number\n",
      "enter a number: 68\n",
      "68 is a happy number\n"
     ]
    }
   ],
   "source": [
    "def check_happy_number():\n",
    "    num=input(\"enter a number: \")\n",
    "    num1=num\n",
    "    tracknumber=set()\n",
    "    while True:\n",
    "        if num!='1' and str(num) not in tracknumber:\n",
    "            tracknumber.add(num)\n",
    "            sum=0\n",
    "            for i in range(len(num)):\n",
    "                sum=sum+int(num[i])**2\n",
    "            num=str(sum)\n",
    "        elif str(num) in tracknumber:\n",
    "            print(f'{num1} is not a happy number')\n",
    "            break\n",
    "        else:\n",
    "            print(f'{num1} is a happy number')\n",
    "            break\n",
    "        \n",
    "check_happy_number() \n",
    "check_happy_number() \n",
    "check_happy_number() \n"
   ]
  },
  {
   "cell_type": "markdown",
   "id": "48f049cc",
   "metadata": {},
   "source": [
    "# 4. Write a Python program to print all happy numbers between 1 and 100?\n",
    "\n",
    "ANSWER-"
   ]
  },
  {
   "cell_type": "code",
   "execution_count": 4,
   "id": "2013f582",
   "metadata": {},
   "outputs": [
    {
     "name": "stdout",
     "output_type": "stream",
     "text": [
      "the happy numbers between1 and 100 are [1, 7, 10, 13, 19, 23, 28, 31, 32, 44, 49, 68, 70, 79, 82, 86, 91, 94, 97, 100]\n"
     ]
    }
   ],
   "source": [
    "def check_happy_number(start,end):\n",
    "    final_output=[]\n",
    "    for i in range(start,end+1):\n",
    "        i=str(i)\n",
    "        num=i\n",
    "        tracknumber=set()\n",
    "        while True:\n",
    "            if i !='1' and str(i) not in tracknumber:\n",
    "                tracknumber.add(i)\n",
    "                sum=0\n",
    "                for j in range(len(i)):\n",
    "                    sum=sum+int(i[j])**2\n",
    "                i=str(sum)\n",
    "            elif str(i) in tracknumber:\n",
    "                break\n",
    "            else:\n",
    "                final_output.append(int(num))\n",
    "                break\n",
    "    print(f'the happy numbers between{start} and {end} are {final_output}')\n",
    "    \n",
    "check_happy_number(1,100)    \n",
    "            \n",
    "        \n",
    "        "
   ]
  },
  {
   "cell_type": "markdown",
   "id": "729fd88e",
   "metadata": {},
   "source": [
    "# 5. Write a Python program to determine whether the given number is a Harshad Number?\n",
    "\n",
    "ANSWER-"
   ]
  },
  {
   "cell_type": "code",
   "execution_count": 11,
   "id": "560147a7",
   "metadata": {},
   "outputs": [
    {
     "name": "stdout",
     "output_type": "stream",
     "text": [
      "enter number you want to check: 10\n",
      "the given number 10 is a harshad number\n",
      "enter number you want to check: 15\n",
      "given number 15 is not harshad number\n",
      "enter number you want to check: 20\n",
      "the given number 20 is a harshad number\n"
     ]
    }
   ],
   "source": [
    "def check_harshad_number():\n",
    "    num=input(\"enter number you want to check: \")\n",
    "    num1=num\n",
    "    sum=0\n",
    "    for i in range(len(num)):\n",
    "        sum=sum+int(num[i])\n",
    "    if  int(num1)%sum==0:\n",
    "        print(f'the given number {num} is a harshad number')\n",
    "    else:\n",
    "        print(f'given number {num} is not harshad number')\n",
    "check_harshad_number()\n",
    "check_harshad_number()\n",
    "check_harshad_number()\n",
    "\n",
    "            "
   ]
  },
  {
   "cell_type": "markdown",
   "id": "e78ddcf3",
   "metadata": {},
   "source": [
    "# 6. Write a Python program to print all pronic numbers between 1 and 100?\n",
    "\n",
    "ANSWER-"
   ]
  },
  {
   "cell_type": "code",
   "execution_count": 17,
   "id": "f7e5072d",
   "metadata": {},
   "outputs": [
    {
     "name": "stdout",
     "output_type": "stream",
     "text": [
      "[0, 2, 6, 12, 20, 30, 42, 56, 72, 90]\n"
     ]
    }
   ],
   "source": [
    "def check_pronic_number(start,end):\n",
    "    final_output=[]\n",
    "    for i in range(start,end+1):\n",
    "        final_output.append((i)*(i+1))\n",
    "    print(final_output)\n",
    "\n",
    "check_pronic_number(0,9)    \n",
    "    "
   ]
  },
  {
   "cell_type": "code",
   "execution_count": null,
   "id": "732d6b15",
   "metadata": {},
   "outputs": [],
   "source": []
  }
 ],
 "metadata": {
  "kernelspec": {
   "display_name": "Python 3 (ipykernel)",
   "language": "python",
   "name": "python3"
  },
  "language_info": {
   "codemirror_mode": {
    "name": "ipython",
    "version": 3
   },
   "file_extension": ".py",
   "mimetype": "text/x-python",
   "name": "python",
   "nbconvert_exporter": "python",
   "pygments_lexer": "ipython3",
   "version": "3.9.12"
  }
 },
 "nbformat": 4,
 "nbformat_minor": 5
}
